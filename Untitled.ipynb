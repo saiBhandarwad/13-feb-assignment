{
 "cells": [
  {
   "cell_type": "code",
   "execution_count": null,
   "id": "cdba338b-aa8c-4c78-b70c-35acbd23701a",
   "metadata": {},
   "outputs": [],
   "source": [
    "# Q1.ANS=>\n",
    "'''base Exception class while creating a Custom Exception is used to get access or inherited of all methods or properties\n",
    "that are presented in Exception class'''"
   ]
  },
  {
   "cell_type": "code",
   "execution_count": 6,
   "id": "2ae2dcac-a9e7-4b03-acce-9cd105b4bde2",
   "metadata": {},
   "outputs": [],
   "source": [
    "# Q2.ANS=>\n",
    "import inspect\n",
    "\n",
    "\n",
    "def HierarchyClass(cls, ind = 0):\n",
    "\t\n",
    "\t\n",
    "\tprint ('-' * ind, cls.__name__)\n",
    "\t\n",
    "\t\n",
    "\tfor i in cls.__subclasses__():\n",
    "\t\tHierarchyClass(i, ind + 3)\n",
    "\n",
    "print(\"Hierarchy for Built-in exceptions is : \")\n",
    "\n",
    "inspect.getclasstree(inspect.getmro(BaseException))\n",
    "\n",
    "\n",
    "HierarchyClass(BaseException)\n"
   ]
  },
  {
   "cell_type": "code",
   "execution_count": 10,
   "id": "87fc0eda-efaa-41dd-8751-6db5e3c2c366",
   "metadata": {},
   "outputs": [
    {
     "data": {
      "text/plain": [
       "'ArithmeticError is simply an error that occurs during numeric calculations. ArithmeticError types in Python include:\\nOverFlowError. ZeroDivisionError.'"
      ]
     },
     "execution_count": 10,
     "metadata": {},
     "output_type": "execute_result"
    }
   ],
   "source": [
    "# Q3.ANS=>\n",
    "'''ArithmeticError is simply an error that occurs during numeric calculations. ArithmeticError types in Python include:\n",
    "OverFlowError. ZeroDivisionError.'''\n"
   ]
  },
  {
   "cell_type": "code",
   "execution_count": 11,
   "id": "d30b167c-dda9-4df3-866a-5271457b0640",
   "metadata": {},
   "outputs": [
    {
     "name": "stdout",
     "output_type": "stream",
     "text": [
      "5.9\n",
      "34.81\n",
      "42180.53364100001\n",
      "3.1655434530702213e+18\n",
      "3.1786403864930986e+92\n"
     ]
    },
    {
     "ename": "OverflowError",
     "evalue": "(34, 'Numerical result out of range')",
     "output_type": "error",
     "traceback": [
      "\u001b[0;31m---------------------------------------------------------------------------\u001b[0m",
      "\u001b[0;31mOverflowError\u001b[0m                             Traceback (most recent call last)",
      "Cell \u001b[0;32mIn[11], line 5\u001b[0m\n\u001b[1;32m      2\u001b[0m j \u001b[38;5;241m=\u001b[39m \u001b[38;5;241m5.9\u001b[39m\n\u001b[1;32m      4\u001b[0m \u001b[38;5;28;01mfor\u001b[39;00m i \u001b[38;5;129;01min\u001b[39;00m \u001b[38;5;28mrange\u001b[39m(\u001b[38;5;241m1\u001b[39m, \u001b[38;5;241m1000\u001b[39m):\n\u001b[0;32m----> 5\u001b[0m     j \u001b[38;5;241m=\u001b[39m \u001b[43mj\u001b[49m\u001b[38;5;241;43m*\u001b[39;49m\u001b[38;5;241;43m*\u001b[39;49m\u001b[43mi\u001b[49m\n\u001b[1;32m      6\u001b[0m     \u001b[38;5;28mprint\u001b[39m(j)\n",
      "\u001b[0;31mOverflowError\u001b[0m: (34, 'Numerical result out of range')"
     ]
    }
   ],
   "source": [
    "# OverFlowError\n",
    "j = 5.9\n",
    "\n",
    "for i in range(1, 1000):\n",
    "    j = j**i\n",
    "    print(j)"
   ]
  },
  {
   "cell_type": "code",
   "execution_count": 14,
   "id": "21c40075-6b59-4598-a325-e66c88f0c068",
   "metadata": {},
   "outputs": [
    {
     "ename": "ZeroDivisionError",
     "evalue": "division by zero",
     "output_type": "error",
     "traceback": [
      "\u001b[0;31m---------------------------------------------------------------------------\u001b[0m",
      "\u001b[0;31mZeroDivisionError\u001b[0m                         Traceback (most recent call last)",
      "Cell \u001b[0;32mIn[14], line 4\u001b[0m\n\u001b[1;32m      2\u001b[0m x \u001b[38;5;241m=\u001b[39m \u001b[38;5;241m5\u001b[39m\n\u001b[1;32m      3\u001b[0m y \u001b[38;5;241m=\u001b[39m \u001b[38;5;241m0\u001b[39m\n\u001b[0;32m----> 4\u001b[0m z \u001b[38;5;241m=\u001b[39m \u001b[43mx\u001b[49m\u001b[38;5;241;43m/\u001b[39;49m\u001b[43my\u001b[49m\n\u001b[1;32m      5\u001b[0m \u001b[38;5;28mprint\u001b[39m(z)\n",
      "\u001b[0;31mZeroDivisionError\u001b[0m: division by zero"
     ]
    }
   ],
   "source": [
    "# ZeroDivisionError\n",
    "x = 5\n",
    "y = 0\n",
    "z = x/y\n",
    "print(z)\n"
   ]
  },
  {
   "cell_type": "code",
   "execution_count": null,
   "id": "a34d1bb0-5ade-4723-94c6-5acdde170207",
   "metadata": {},
   "outputs": [],
   "source": [
    "# Q4.ANS=>\n",
    "'''we use LookupError exception class to handle both IndexError and KeyError exception'''\n",
    "# IndexError\n",
    "x = [1, 2, 3, 4]\n",
    "try:\n",
    "    print(x[10])\n",
    "except LookupError as e:\n",
    "    print(f\"{e}, {e.__class__}\")\n",
    "\n",
    ">>> list index out of range, <class 'IndexError'>"
   ]
  },
  {
   "cell_type": "code",
   "execution_count": 18,
   "id": "ce709e6b-fd4b-42db-8cb0-208c2cc5692c",
   "metadata": {},
   "outputs": [
    {
     "name": "stdin",
     "output_type": "stream",
     "text": [
      "enter valid key  name\n"
     ]
    },
    {
     "name": "stdout",
     "output_type": "stream",
     "text": [
      "name is Lenin Mishra\n"
     ]
    }
   ],
   "source": [
    "# keyError \n",
    "info = {'name': 'Lenin Mishra',\n",
    "                'age': 28,\n",
    "                'language': 'Python'}\n",
    "inpute = input('enter valid key ')\n",
    "\n",
    "try:\n",
    "    print(f'{inpute} is {info[inpute]}')\n",
    "except LookupError as e:\n",
    "    print(f'{e}, {e.__class__}')"
   ]
  },
  {
   "cell_type": "code",
   "execution_count": null,
   "id": "9f4e6779-3237-41b7-a98a-30d54b1a7223",
   "metadata": {},
   "outputs": [],
   "source": [
    "# Q5.ANS=>\n",
    "'''A error occurs when the Python program tries to import module which does not exist in the private table that error called as ImportError\n",
    " A error occurs when you're trying to access or use a module that does not exist or that can not be found that error called as\n",
    " ModuleNotFoundError'''\n",
    "# ImportError\n",
    "import sys\n",
    "try:\n",
    "    from exception import myexception\n",
    "except Exception as e:\n",
    "    print e\n",
    "    print sys.exc_type"
   ]
  },
  {
   "cell_type": "code",
   "execution_count": null,
   "id": "b89943f4-8260-47da-b0d2-c558a2f831f7",
   "metadata": {},
   "outputs": [],
   "source": [
    "# Q6.ANS=>\n",
    "'''Use try/catch/finally blocks to recover from errors or release resources.\n",
    "Handle common conditions without throwing exceptions.\n",
    "Design classes so that exceptions can be avoided.\n",
    "Throw exceptions instead of returning an error code.\n",
    "Use the predefined .NET exception types.\n",
    "End exception class names with the word Exception\n",
    "Include three constructors in custom exception classes\n",
    "Ensure that exception data is available when code executes remotely'''"
   ]
  }
 ],
 "metadata": {
  "kernelspec": {
   "display_name": "Python 3 (ipykernel)",
   "language": "python",
   "name": "python3"
  },
  "language_info": {
   "codemirror_mode": {
    "name": "ipython",
    "version": 3
   },
   "file_extension": ".py",
   "mimetype": "text/x-python",
   "name": "python",
   "nbconvert_exporter": "python",
   "pygments_lexer": "ipython3",
   "version": "3.10.8"
  }
 },
 "nbformat": 4,
 "nbformat_minor": 5
}
